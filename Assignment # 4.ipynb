{
 "cells": [
  {
   "cell_type": "code",
   "execution_count": 1,
   "metadata": {},
   "outputs": [
    {
     "name": "stdout",
     "output_type": "stream",
     "text": [
      "guess a number between 1 and 304\n",
      "your guess is too low\n",
      "guess again24\n",
      "your guess is too high\n",
      "guess again14\n",
      "your guess is too high\n",
      "guess again10\n",
      "your guess is too high\n",
      "guess again6\n",
      "your guess is too low\n",
      "guess again8\n",
      "\n",
      "congrats, you guess the number\n",
      "it only took you 6 guesses!\n"
     ]
    }
   ],
   "source": [
    "import random\n",
    "guesses=1\n",
    "number= random.randint(1,30)\n",
    "\n",
    "guess= int(input(\"guess a number between 1 and 30\"))\n",
    "\n",
    "while guess != number:\n",
    "    \n",
    "    if guess < number:\n",
    "        print(\"your guess is too low\")\n",
    "        guess=int(input(\"guess again\"))\n",
    "        guesses=guesses+1\n",
    "    elif guess > number :\n",
    "        print(\"your guess is too high\")\n",
    "        guess=int(input(\"guess again\"))\n",
    "        guesses=guesses+1\n",
    "        \n",
    "print()\n",
    "print(\"congrats, you guess the number\")\n",
    "print(\"it only took you\", guesses, \"guesses!\")"
   ]
  },
  {
   "cell_type": "code",
   "execution_count": 2,
   "metadata": {},
   "outputs": [
    {
     "name": "stdout",
     "output_type": "stream",
     "text": [
      "title is ALice in wonderland\n"
     ]
    }
   ],
   "source": [
    "def favourite_book(title):\n",
    "    title= (title)\n",
    "    print ('title is', title)\n",
    "\n",
    "favourite_book(\"ALice in wonderland\")"
   ]
  },
  {
   "cell_type": "code",
   "execution_count": 3,
   "metadata": {},
   "outputs": [
    {
     "name": "stdout",
     "output_type": "stream",
     "text": [
      "enter your age here34\n",
      "15$ please\n"
     ]
    }
   ],
   "source": [
    "age = int(input(\"enter your age here\"))\n",
    "if age <=3:\n",
    "    print(\"Free Ticket for you\")\n",
    "elif age >=3 and age <=12:\n",
    "    print (\"10$ please\")\n",
    "elif age >=12 and age <=60:\n",
    "    print (\"15$ please\")\n",
    "else:\n",
    "    print(\"you are not eligible for the ride\")"
   ]
  },
  {
   "cell_type": "code",
   "execution_count": 4,
   "metadata": {},
   "outputs": [
    {
     "name": "stdout",
     "output_type": "stream",
     "text": [
      "{'City': 'Rome', 'Country': 'Italy', 'population': '2.873 million', 'fact': 'Rome was founded by two brothers nursed by a she-wolf.'}\n",
      "{'City': 'Paris', 'Country': 'France', 'population': '2.141 million', 'fact': \"Paris was originally a Roman City called “Lutetia.” It's believed that Paris only has one stop sign in the entire city.\"}\n",
      "{'City': 'Venice', 'Country': 'Italy', 'population': '2.61 million', 'fact': 'Venice is made up of 118 islands. The city itself is believed to be sinking at a rate of 1 to 2 millimeters each year.'}\n"
     ]
    }
   ],
   "source": [
    "city_1= {\n",
    "    \"City\":\"Rome\",\n",
    "    \"Country\":\"Italy\",\n",
    "    \"population\":\"2.873 million\",\n",
    "    \"fact\":\"Rome was founded by two brothers nursed by a she-wolf.\"\n",
    "}\n",
    "\n",
    "city_2= {\n",
    "    \"City\":\"Paris\",\n",
    "   \"Country\":\"France\",\n",
    "    \"population\":\"2.141 million\",\n",
    "    \"fact\":\"Paris was originally a Roman City called “Lutetia.” It's believed that Paris only has one stop sign in the entire city.\" \n",
    "}\n",
    "\n",
    "city_3= {\n",
    "    \"City\":\"Venice\",\n",
    "    \"Country\":\"Italy\",\n",
    "    \"population\":\"2.61 million\",\n",
    "    \"fact\":\"Venice is made up of 118 islands. The city itself is believed to be sinking at a rate of 1 to 2 millimeters each year.\"\n",
    "}\n",
    "\n",
    "print(city_1)\n",
    "print(city_2)\n",
    "print(city_3)"
   ]
  },
  {
   "cell_type": "code",
   "execution_count": 5,
   "metadata": {},
   "outputs": [
    {
     "name": "stdout",
     "output_type": "stream",
     "text": [
      "{'first_name': 'Fawwad', 'last_name': 'Siddiqui', 'age': '21', 'city': 'Dubai'}\n",
      "{'first_name': 'Fawwad', 'last_name': 'Siddiqui', 'age': '21', 'city': 'Dubai', 'qualification': 'A levels'}\n",
      "{'first_name': 'Fawwad', 'last_name': 'Siddiqui', 'age': '21', 'city': 'Dubai', 'qualification': 'A levels', 'higher_qualification': 'P.H.D'}\n",
      "{'first_name': 'Fawwad', 'last_name': 'Siddiqui', 'age': '21', 'city': 'Dubai', 'qualification': 'A levels'}\n"
     ]
    }
   ],
   "source": [
    "Person ={\n",
    "    \"first_name\":\"Fawwad\",\n",
    "    \"last_name\":\"Siddiqui\",\n",
    "    \"age\":\"21\",\n",
    "    \"city\":\"Dubai\"\n",
    "}\n",
    "print(Person)\n",
    "Person[\"qualification\"] = 'A levels'\n",
    "print(Person)\n",
    "Person[\"higher_qualification\"] = 'P.H.D'\n",
    "print(Person)\n",
    "del Person['higher_qualification']\n",
    "print(Person)"
   ]
  },
  {
   "cell_type": "code",
   "execution_count": null,
   "metadata": {},
   "outputs": [],
   "source": []
  }
 ],
 "metadata": {
  "kernelspec": {
   "display_name": "Python 3",
   "language": "python",
   "name": "python3"
  },
  "language_info": {
   "codemirror_mode": {
    "name": "ipython",
    "version": 3
   },
   "file_extension": ".py",
   "mimetype": "text/x-python",
   "name": "python",
   "nbconvert_exporter": "python",
   "pygments_lexer": "ipython3",
   "version": "3.7.4"
  }
 },
 "nbformat": 4,
 "nbformat_minor": 2
}
