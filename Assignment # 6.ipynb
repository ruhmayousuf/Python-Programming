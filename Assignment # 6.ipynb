{
 "cells": [
  {
   "cell_type": "code",
   "execution_count": 1,
   "metadata": {},
   "outputs": [
    {
     "ename": "SyntaxError",
     "evalue": "invalid syntax (<ipython-input-1-fab8389fda55>, line 1)",
     "output_type": "error",
     "traceback": [
      "\u001b[1;36m  File \u001b[1;32m\"<ipython-input-1-fab8389fda55>\"\u001b[1;36m, line \u001b[1;32m1\u001b[0m\n\u001b[1;33m    Object-oriented programming concepts\u001b[0m\n\u001b[1;37m                              ^\u001b[0m\n\u001b[1;31mSyntaxError\u001b[0m\u001b[1;31m:\u001b[0m invalid syntax\n"
     ]
    }
   ],
   "source": [
    "Object-oriented programming concepts\n",
    "When programming in an object-oriented programming language, you should keep the following four key concepts in mind.\n",
    "\n",
    "Encapsulation - The grouping of related functions and data (variables) together into an object to help reduce complexity and allow parts of the code to be reused.\n",
    "Abstraction - Show only the essentials to reduce the abstract of change.\n",
    "Inheritance - Eliminate redundant code by inheriting functions and data from other classes.\n",
    "Polymorphism - Change how an object function depending on the data or class."
   ]
  },
  {
   "cell_type": "code",
   "execution_count": 2,
   "metadata": {},
   "outputs": [
    {
     "ename": "SyntaxError",
     "evalue": "invalid syntax (<ipython-input-2-12339f3c4224>, line 1)",
     "output_type": "error",
     "traceback": [
      "\u001b[1;36m  File \u001b[1;32m\"<ipython-input-2-12339f3c4224>\"\u001b[1;36m, line \u001b[1;32m1\u001b[0m\n\u001b[1;33m    Some of the advantages of object-oriented programming include:\u001b[0m\n\u001b[1;37m          ^\u001b[0m\n\u001b[1;31mSyntaxError\u001b[0m\u001b[1;31m:\u001b[0m invalid syntax\n"
     ]
    }
   ],
   "source": [
    "Some of the advantages of object-oriented programming include:\n",
    "1. Improved software-development productivity: Object-oriented programming is\n",
    "modular, as it provides separation of duties in object-based program development. It\n",
    "is also extensible, as objects can be extended to include new attributes and\n",
    "behaviors. Objects can also be reused within an across applications. Because of\n",
    "these three factors – modularity, extensibility, and reusability – object-oriented\n",
    "programming provides improved software-development productivity over traditional\n",
    "procedure-based programming techniques.\n",
    "2. Improved software maintainability: For the reasons mentioned above, objectoriented software is also easier to maintain. Since the design is modular, part of the\n",
    "system can be updated in case of issues without a need to make large-scale\n",
    "changes.\n",
    "3. Faster development: Reuse enables faster development. Object-oriented\n",
    "programming languages come with rich libraries of objects, and code developed\n",
    "during projects is also reusable in future projects.\n",
    "4. Lower cost of development: The reuse of software also lowers the cost of\n",
    "development. Typically, more effort is put into the object-oriented analysis and\n",
    "design, which lowers the overall cost of development.\n",
    "5. Higher-quality software: Faster development of software and lower cost of\n",
    "development allows more time and resources to be used in the verification of the\n",
    "software. Although quality is dependent upon the experience of the teams, objectoriented programming tends to result in higher-quality software."
   ]
  },
  {
   "cell_type": "code",
   "execution_count": 3,
   "metadata": {},
   "outputs": [
    {
     "ename": "SyntaxError",
     "evalue": "invalid syntax (<ipython-input-3-24f9fc69d687>, line 1)",
     "output_type": "error",
     "traceback": [
      "\u001b[1;36m  File \u001b[1;32m\"<ipython-input-3-24f9fc69d687>\"\u001b[1;36m, line \u001b[1;32m1\u001b[0m\n\u001b[1;33m    CLASS=Like function definitions begin with the keyword def, in Python, we define a class using the keyword class.\u001b[0m\n\u001b[1;37m                      ^\u001b[0m\n\u001b[1;31mSyntaxError\u001b[0m\u001b[1;31m:\u001b[0m invalid syntax\n"
     ]
    }
   ],
   "source": [
    "CLASS=Like function definitions begin with the keyword def, in Python, we define a class using the keyword class.\n",
    "The first string is called docstring and has a brief description about the class. Although not mandatory, this is recommended.\n",
    "A class creates a new local namespace where all its attributes are defined. Attributes may be data or functions.\n",
    "There are also special attributes in it that begins with double underscores (__). For example, __doc__ gives us the docstring of that class.\n",
    "As soon as we define a class, a new class object is created with the same name. This class object allows us to access the different attributes as well as to instantiate new objects of that class.\n",
    "ATTRIBUTE= Class attributes are attributes which are owned by the class itself. They will be shared by all the instances of the class. Therefore they have the same value for every instance. We define class attributes outside of all the methods, usually they are placed at the top, right below the class header.\n",
    "OBJECT= Python is an object oriented programming language. Unlike procedure oriented programming, where the main emphasis is on functions, object oriented programming stress on objects. Object is simply a collection of data (variables) and methods (functions) that act on those data.\n",
    "BEHAVIOUR= The behavior of an object is defined by its methods, which are the functions and subroutines defined within the object class. ... Methods determine what type of functionality a class has, how it modifies its data, and its overall behavior.\n"
   ]
  },
  {
   "cell_type": "code",
   "execution_count": 4,
   "metadata": {},
   "outputs": [
    {
     "ename": "SyntaxError",
     "evalue": "invalid syntax (<ipython-input-4-fd1c9747ac17>, line 1)",
     "output_type": "error",
     "traceback": [
      "\u001b[1;36m  File \u001b[1;32m\"<ipython-input-4-fd1c9747ac17>\"\u001b[1;36m, line \u001b[1;32m1\u001b[0m\n\u001b[1;33m    Python Method\u001b[0m\n\u001b[1;37m                ^\u001b[0m\n\u001b[1;31mSyntaxError\u001b[0m\u001b[1;31m:\u001b[0m invalid syntax\n"
     ]
    }
   ],
   "source": [
    "Python Method\n",
    "\n",
    "Method is called by its name, but it is associated to an object (dependent).\n",
    "A method is implicitly passed the object on which it is invoked.\n",
    "It may or may not return any data.\n",
    "A method can operate on the data (instance variables) that is contained by the corresponding class\n",
    "\n",
    "Functions\n",
    "\n",
    "Function is block of code that is also called by its name. (independent)\n",
    "The function can have different parameters or may not have any at all. If any data (parameters) are passed, they are passed explicitly.\n",
    "It may or may not return any data.\n",
    "Function does not deal with Class and its instance concept."
   ]
  },
  {
   "cell_type": "code",
   "execution_count": 5,
   "metadata": {},
   "outputs": [
    {
     "ename": "NameError",
     "evalue": "name 'datetime' is not defined",
     "output_type": "error",
     "traceback": [
      "\u001b[1;31m---------------------------------------------------------------------------\u001b[0m",
      "\u001b[1;31mNameError\u001b[0m                                 Traceback (most recent call last)",
      "\u001b[1;32m<ipython-input-5-aff6e7009be7>\u001b[0m in \u001b[0;36m<module>\u001b[1;34m\u001b[0m\n\u001b[0;32m     22\u001b[0m     \u001b[1;34m\"Jane\"\u001b[0m\u001b[1;33m,\u001b[0m\u001b[1;33m\u001b[0m\u001b[1;33m\u001b[0m\u001b[0m\n\u001b[0;32m     23\u001b[0m     \u001b[1;34m\"Doe\"\u001b[0m\u001b[1;33m,\u001b[0m\u001b[1;33m\u001b[0m\u001b[1;33m\u001b[0m\u001b[0m\n\u001b[1;32m---> 24\u001b[1;33m     \u001b[0mdatetime\u001b[0m\u001b[1;33m.\u001b[0m\u001b[0mdate\u001b[0m\u001b[1;33m(\u001b[0m\u001b[1;36m1992\u001b[0m\u001b[1;33m,\u001b[0m \u001b[1;36m3\u001b[0m\u001b[1;33m,\u001b[0m \u001b[1;36m12\u001b[0m\u001b[1;33m)\u001b[0m\u001b[1;33m,\u001b[0m \u001b[1;31m# year, month, day\u001b[0m\u001b[1;33m\u001b[0m\u001b[1;33m\u001b[0m\u001b[0m\n\u001b[0m\u001b[0;32m     25\u001b[0m     \u001b[1;34m\"No. 12 Short Street, Greenville\"\u001b[0m\u001b[1;33m,\u001b[0m\u001b[1;33m\u001b[0m\u001b[1;33m\u001b[0m\u001b[0m\n\u001b[0;32m     26\u001b[0m     \u001b[1;34m\"555 456 0987\"\u001b[0m\u001b[1;33m,\u001b[0m\u001b[1;33m\u001b[0m\u001b[1;33m\u001b[0m\u001b[0m\n",
      "\u001b[1;31mNameError\u001b[0m: name 'datetime' is not defined"
     ]
    }
   ],
   "source": []
  },
  {
   "cell_type": "code",
   "execution_count": null,
   "metadata": {},
   "outputs": [],
   "source": []
  }
 ],
 "metadata": {
  "kernelspec": {
   "display_name": "Python 3",
   "language": "python",
   "name": "python3"
  },
  "language_info": {
   "codemirror_mode": {
    "name": "ipython",
    "version": 3
   },
   "file_extension": ".py",
   "mimetype": "text/x-python",
   "name": "python",
   "nbconvert_exporter": "python",
   "pygments_lexer": "ipython3",
   "version": "3.7.4"
  }
 },
 "nbformat": 4,
 "nbformat_minor": 2
}
