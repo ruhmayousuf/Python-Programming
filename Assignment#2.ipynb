{
 "cells": [
  {
   "cell_type": "code",
   "execution_count": null,
   "metadata": {},
   "outputs": [],
   "source": [
    "Chemistry = int(input(\"Enter marks of Chemistry\"));\n",
    "Physics = int(input(\"Enter marks of Physics\"));\n",
    "Computer = int(input(\"Enter marks of Computer\"));\n",
    "English = int(input(\"Enter marks of English\"));\n",
    "Urdu = int(input(\"Enter marks of Urdu\"));\n",
    "\n",
    "per = (Chemistry+Physics+Computer+English+Urdu)*100/500\n",
    "\n",
    "if per >=80 and per <=100:\n",
    "   print (\"A+\")\n",
    "elif per >=70 and per <80:\n",
    "   print (\"A\")\n",
    "elif per >=60 and per <70:\n",
    "   print (\"B\")\n",
    "elif per >=0 and per <60:\n",
    "  print (\"Fail\")\n",
    "else:\n",
    "  print (\"your have given inappropriate %\")"
   ]
  },
  {
   "cell_type": "code",
   "execution_count": null,
   "metadata": {},
   "outputs": [],
   "source": [
    "number = int(input(\"Enter a number\"));\n",
    "if number/2==0:\n",
    "  print (\"Even Number\")\n",
    "else:\n",
    "  print (\"Odd Number\")"
   ]
  },
  {
   "cell_type": "code",
   "execution_count": 4,
   "metadata": {},
   "outputs": [
    {
     "name": "stdout",
     "output_type": "stream",
     "text": [
      "the length of the list: 9\n"
     ]
    }
   ],
   "source": [
    "n = len ([10,20,30,40,50,60,70,80,90])\n",
    "print (\"the length of the list:\" , n)"
   ]
  },
  {
   "cell_type": "code",
   "execution_count": 2,
   "metadata": {},
   "outputs": [
    {
     "name": "stdout",
     "output_type": "stream",
     "text": [
      "0\n"
     ]
    }
   ],
   "source": [
    "def sum_list(items):\n",
    "    sum_numbers = 0\n",
    "    for x in items:\n",
    "        sum_numbers += x\n",
    "    return sum_numbers\n",
    "print(sum_list([1,2,-3]))"
   ]
  },
  {
   "cell_type": "code",
   "execution_count": 3,
   "metadata": {},
   "outputs": [
    {
     "name": "stdout",
     "output_type": "stream",
     "text": [
      "Largest element is: 79\n"
     ]
    }
   ],
   "source": [
    "list1= [20,79,67,54]\n",
    "list1.sort()\n",
    "print(\"Largest element is:\" , max(list1))"
   ]
  },
  {
   "cell_type": "code",
   "execution_count": 1,
   "metadata": {},
   "outputs": [
    {
     "name": "stdout",
     "output_type": "stream",
     "text": [
      "[1]\n",
      "[1, 1]\n",
      "[1, 1, 2]\n",
      "[1, 1, 2, 3]\n"
     ]
    }
   ],
   "source": [
    "a = [1, 1, 2, 3, 5, 8, 13, 21, 34, 55, 89]\n",
    "list_a = []\n",
    "for item in a:\n",
    "    if item < 5:\n",
    "        list_a.append(item)\n",
    "        print (list_a)\n"
   ]
  },
  {
   "cell_type": "code",
   "execution_count": null,
   "metadata": {},
   "outputs": [],
   "source": []
  }
 ],
 "metadata": {
  "kernelspec": {
   "display_name": "Python 3",
   "language": "python",
   "name": "python3"
  },
  "language_info": {
   "codemirror_mode": {
    "name": "ipython",
    "version": 3
   },
   "file_extension": ".py",
   "mimetype": "text/x-python",
   "name": "python",
   "nbconvert_exporter": "python",
   "pygments_lexer": "ipython3",
   "version": "3.7.4"
  }
 },
 "nbformat": 4,
 "nbformat_minor": 2
}
